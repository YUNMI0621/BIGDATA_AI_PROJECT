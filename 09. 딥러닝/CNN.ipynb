{
 "cells": [
  {
   "cell_type": "code",
   "execution_count": 1,
   "metadata": {},
   "outputs": [],
   "source": [
    "import pandas as pd\n",
    "import numpy as np\n",
    "import cv2\n",
    "import matplotlib.pyplot as plt\n",
    "import os, glob\n",
    "import gzip,tarfile\n",
    "\n",
    "# class ImageMaker:\n",
    "#     '''\n",
    "#     한 장의 사진으로 회전, 대칭 등 변환해서 여러장으로 만드는 클래스\n",
    "#     data_path_ :  원본 데이터 경로\n",
    "#     new_path_: 새롭게 저장할 경로\n",
    "#     title_:이미지 파일 이름\n",
    "#     '''\n",
    "\n",
    "#     # 객체 생성\n",
    "#     def __init__(self,data_path_,new_path_,title_):\n",
    "#         self.data_path=data_path_\n",
    "#         self.new_path = new_path_\n",
    "#         self.title = title_\n",
    "#         self.num_i = 1\n",
    "\n",
    "#     # 새로운 폴더 만들기\n",
    "#     def create_new_folder(self):\n",
    "#         if not os.path.exists(self.new_path):\n",
    "#             os.makedirs(self.new_path)\n",
    "#         else:pass\n",
    "\n",
    "#     # 이미지 크기 조절, 그레이 스케일, 누끼 등\n",
    "#     def resize_images(self,dsize_):\n",
    "#         images=glob.glob(self.data_path+'*')\n",
    "\n",
    "#         for image in images:\n",
    "#             org=cv2.imread(image,cv2.IMREAD_GRAYSCALE)  # 그레이스케일\n",
    "            \n",
    "#             # 배경 지우기(누끼 따기)\n",
    "#             # org=remove(org)\n",
    "\n",
    "#             '''이미지 크기 조절\n",
    "#             - cv2.resize(src,이미지크기)\n",
    "#             - src : 원본이미지'''\n",
    "#             resized_=cv2.resize(org,dsize_)\n",
    "#             cv2.imwrite(self.new_path+f'{self.title}_{self.num_i}.png',resized_)\n",
    "#             self.num_i += 1\n",
    "\n",
    "\n",
    "#     # 이미지 회전\n",
    "#     def rotate_images(self,degrees_):\n",
    "#     # 회전 행렬 생성 : cv2.getRotationMatrix2D(중심축,각도,비율)\n",
    "#     # 회전 변환 행렬에 따른 회전 이미지 반환: cv2.warpAffine(src,회전 행렬,(w,h))\n",
    "#         images=glob.glob(self.new_path+'*')\n",
    "\n",
    "#         for image in images:\n",
    "#             img=cv2.imread(image)\n",
    "#             # 이미지 높이, 너비 채널 정보 추출 => 높이 , 너비 이용 회전 중심점 설정\n",
    "#             h,w,c=img.shape\n",
    "\n",
    "#             for degree in degrees_:\n",
    "#                 matrix=cv2.getRotationMatrix2D((w/2,h/2),degree,0.9) #<= 비율\n",
    "#                 rotate_=cv2.warpAffine(img,matrix,(w,h))\n",
    "#                 cv2.imwrite(image.replace('.png',f'_rotate({degree}).png'),rotate_)\n",
    "    \n",
    "#     # # 이미지 블러\n",
    "#     # def blur_images(self,blur_range):\n",
    "#     # # cv2.GaussianBlur(src,ksize,표준편차)\n",
    "#     # # ksize: 커널 크기. (가로, 세로) 튜플 (홀수만), 크기 커질수록 블러 강화\n",
    "#     #     images=glob.glob(self.new_path+'*')\n",
    "\n",
    "#     #     for image in images:\n",
    "#     #         img=cv2.imread(image)\n",
    "\n",
    "#     #         for b in blur_range:\n",
    "#     #             blur_=cv2.GaussianBlur(img,(b,b),0)\n",
    "#     #             cv2.imwrite(image.replace('.png',f'_blur({b}).png'),blur_)\n",
    "\n",
    "\n",
    "#     # 실행 !!!!!!!!!!!!!!!\n",
    "#     def run(self):\n",
    "#         self.create_new_folder()\n",
    "#         self.resize_images((28,28))  #<= 크기 \n",
    "#         degrees1=list(range(1,11,1))+list(range(350,360,1))\n",
    "#         self.rotate_images(degrees1)\n",
    "\n",
    "# # 폴더 불러오기\n",
    "# filepath='./HAND/'\n",
    "# files=glob.glob(filepath+'*')\n",
    "# files\n",
    "\n",
    "# for image_folder in files:\n",
    "#     data_path=image_folder+'/'\n",
    "#     new_path=f'{image_folder[:2]}new{image_folder[2:]}/'\n",
    "#     title=f'{image_folder[7:]}'\n",
    "#     name=title+'maker'\n",
    "#     name=ImageMaker(data_path, new_path, title)\n",
    "#     name.run()"
   ]
  },
  {
   "cell_type": "code",
   "execution_count": 2,
   "metadata": {},
   "outputs": [
    {
     "data": {
      "text/plain": [
       "['./newHAND\\\\J1',\n",
       " './newHAND\\\\J10',\n",
       " './newHAND\\\\J11',\n",
       " './newHAND\\\\J12',\n",
       " './newHAND\\\\J13',\n",
       " './newHAND\\\\J14',\n",
       " './newHAND\\\\J2',\n",
       " './newHAND\\\\J3',\n",
       " './newHAND\\\\J4',\n",
       " './newHAND\\\\J5',\n",
       " './newHAND\\\\J6',\n",
       " './newHAND\\\\J7',\n",
       " './newHAND\\\\J8',\n",
       " './newHAND\\\\J9',\n",
       " './newHAND\\\\M1',\n",
       " './newHAND\\\\M10',\n",
       " './newHAND\\\\M11',\n",
       " './newHAND\\\\M12',\n",
       " './newHAND\\\\M13',\n",
       " './newHAND\\\\M14',\n",
       " './newHAND\\\\M15',\n",
       " './newHAND\\\\M16',\n",
       " './newHAND\\\\M17',\n",
       " './newHAND\\\\M2',\n",
       " './newHAND\\\\M3',\n",
       " './newHAND\\\\M4',\n",
       " './newHAND\\\\M5',\n",
       " './newHAND\\\\M6',\n",
       " './newHAND\\\\M7',\n",
       " './newHAND\\\\M8',\n",
       " './newHAND\\\\M9']"
      ]
     },
     "execution_count": 2,
     "metadata": {},
     "output_type": "execute_result"
    }
   ],
   "source": [
    "# 폴더 불러오기\n",
    "filepath='./newHAND/'\n",
    "file_names = os.listdir(filepath)\n",
    "\n",
    "len(os.listdir(filepath + file_names[0]))\n",
    "\n",
    "files=glob.glob(filepath+'*')\n",
    "files\n",
    "\n",
    "# data_list = []\n",
    "# label_list = []\n",
    "\n",
    "# for image_folder in files:\n",
    "#     imgs = glob.glob(image_folder + '/*')\n",
    "#     label_list.extend([f'{image_folder[11:]}']*len(imgs))\n",
    "\n",
    "#     for img_path in imgs:\n",
    "#         # 이미지 파일 읽기 \n",
    "#         img = cv2.imread(img_path).reshape(-1)\n",
    "#         data_list.append(img)\n",
    "\n",
    "# # 리스트를 NumPy 배열로 변환\n",
    "# imgNP = np.array(data_list).astype('uint16')     # 용량 많.astype('uint16')으면  # 써서 줄이기\n",
    "# label = np.array(label_list)\n",
    "\n",
    "# #스케일링\n",
    "# imgNP=imgNP/255\n",
    "\n",
    "# print(imgNP.shape, label.shape,imgNP.size)"
   ]
  },
  {
   "cell_type": "code",
   "execution_count": 3,
   "metadata": {},
   "outputs": [],
   "source": [
    "# # 라벨 원핫인코딩\n",
    "# from keras.utils import to_categorical\n",
    "# label_encoded=to_categorical(label)\n",
    "# label_encoded"
   ]
  },
  {
   "cell_type": "code",
   "execution_count": 4,
   "metadata": {},
   "outputs": [
    {
     "name": "stdout",
     "output_type": "stream",
     "text": [
      "(9114, 28, 28, 3) (9114,) 4\n"
     ]
    }
   ],
   "source": [
    "data_list = []\n",
    "label_list = []\n",
    "label_Dict={\n",
    "    'J1': 0, 'J2': 1, 'J3': 2, 'J4': 3, 'J5': 4, 'J6': 5, 'J7': 6, 'J8': 7, 'J9': 8, 'J10': 9,\n",
    "    'J11': 10, 'J12': 11, 'J13': 12, 'J14': 13, 'M1': 14, 'M2': 15, 'M3': 16, 'M4': 17, 'M5': 18,\n",
    "    'M6': 19, 'M7': 20, 'M8': 21, 'M9': 22, 'M10': 23, 'M11': 24, 'M12': 25, 'M13': 26, 'M14': 27,\n",
    "    'M15': 28, 'M16': 29, 'M17': 30\n",
    "}\n",
    "\n",
    "for image_folder in files:\n",
    "    imgs = glob.glob(image_folder + '/*')\n",
    "    # label_list.extend(str(label_Dict[f'{image_folder[10:]}'])*len(imgs))\n",
    "    label = label_Dict[f'{image_folder[10:]}']\n",
    "\n",
    "    for img_path in imgs:\n",
    "        # 이미지 파일 읽기 \n",
    "        img = cv2.imread(img_path) #,cv2.IMREAD_GRAYSCALE\n",
    "        data_list.append(img)\n",
    "        label_list.append(label)\n",
    "\n",
    "# 리스트를 NumPy 배열로 변환\n",
    "imgNP = np.array(data_list).astype('uint8')     # 용량 많.astype('uint16')으면  # 써서 줄이기\n",
    "label = np.array(label_list)\n",
    "\n",
    "#스케일링\n",
    "imgNP=imgNP/255    # 배경 흑백 하고 싶으면 (255-imgNP)\n",
    "\n",
    "print(imgNP.shape, label.shape,imgNP.ndim)"
   ]
  },
  {
   "cell_type": "code",
   "execution_count": 5,
   "metadata": {},
   "outputs": [
    {
     "data": {
      "text/plain": [
       "<matplotlib.image.AxesImage at 0x15d777f4ac0>"
      ]
     },
     "execution_count": 5,
     "metadata": {},
     "output_type": "execute_result"
    },
    {
     "data": {
      "image/png": "[encoded data removed]",
      "text/plain": [
       "<Figure size 640x480 with 1 Axes>"
      ]
     },
     "metadata": {},
     "output_type": "display_data"
    }
   ],
   "source": [
    "plt.imshow(imgNP[100])"
   ]
  },
  {
   "cell_type": "code",
   "execution_count": 6,
   "metadata": {},
   "outputs": [],
   "source": [
    "# # 라벨 원핫인코딩\n",
    "# from keras.utils import to_categorical\n",
    "# label_encoded=to_categorical(label)\n",
    "# label_encoded"
   ]
  },
  {
   "cell_type": "code",
   "execution_count": 7,
   "metadata": {},
   "outputs": [],
   "source": [
    "from keras.models import Sequential\n",
    "from keras.layers import Dense, Dropout, Flatten, Conv2D, MaxPooling2D\n",
    "from keras.callbacks import ModelCheckpoint, EarlyStopping, LearningRateScheduler\n",
    "from sklearn.model_selection import train_test_split"
   ]
  },
  {
   "cell_type": "code",
   "execution_count": 8,
   "metadata": {},
   "outputs": [],
   "source": [
    "from sklearn.model_selection import train_test_split\n",
    "\n",
    "train_X, test_X, train_y, test_y = train_test_split(imgNP, label, stratify=label, random_state=10)\n"
   ]
  },
  {
   "cell_type": "code",
   "execution_count": 9,
   "metadata": {},
   "outputs": [],
   "source": [
    "# from keras.utils import to_categorical\n",
    "# train_y_encoded = to_categorical(train_y, num_classes=31)\n"
   ]
  },
  {
   "cell_type": "code",
   "execution_count": 10,
   "metadata": {},
   "outputs": [],
   "source": [
    "# train_X = np.array(train_X)\n",
    "# test_X = np.array(test_X)"
   ]
  },
  {
   "cell_type": "code",
   "execution_count": 11,
   "metadata": {},
   "outputs": [],
   "source": [
    "from keras.models import Sequential\n",
    "from keras.layers import Dense, Flatten\n",
    "from keras.layers import Activation\n",
    "from tensorflow.keras.layers import Dense, Dropout, Flatten, Conv2D, MaxPooling2D\n",
    "from tensorflow.keras.callbacks import ModelCheckpoint, EarlyStopping\n",
    "from tensorflow.keras.utils import to_categorical"
   ]
  },
  {
   "cell_type": "code",
   "execution_count": 12,
   "metadata": {},
   "outputs": [
    {
     "data": {
      "text/plain": [
       "6835"
      ]
     },
     "execution_count": 12,
     "metadata": {},
     "output_type": "execute_result"
    }
   ],
   "source": [
    "len(train_X)"
   ]
  },
  {
   "cell_type": "code",
   "execution_count": 13,
   "metadata": {},
   "outputs": [
    {
     "data": {
      "text/plain": [
       "2279"
      ]
     },
     "execution_count": 13,
     "metadata": {},
     "output_type": "execute_result"
    }
   ],
   "source": [
    "len(test_X)"
   ]
  },
  {
   "cell_type": "code",
   "execution_count": 14,
   "metadata": {},
   "outputs": [],
   "source": [
    "# train_X = np.array(train_X)"
   ]
  },
  {
   "cell_type": "code",
   "execution_count": 15,
   "metadata": {},
   "outputs": [],
   "source": [
    "# test_X = np.array(test_X)"
   ]
  },
  {
   "cell_type": "code",
   "execution_count": 16,
   "metadata": {},
   "outputs": [
    {
     "data": {
      "text/plain": [
       "((6835, 28, 28, 3), (2279, 28, 28, 3))"
      ]
     },
     "execution_count": 16,
     "metadata": {},
     "output_type": "execute_result"
    }
   ],
   "source": [
    "train_X.shape, test_X.shape"
   ]
  },
  {
   "cell_type": "code",
   "execution_count": 17,
   "metadata": {},
   "outputs": [],
   "source": [
    "from keras.models import Sequential\n",
    "from keras.layers import Dense, Flatten\n",
    "from keras.layers import Activation"
   ]
  },
  {
   "cell_type": "code",
   "execution_count": 18,
   "metadata": {},
   "outputs": [
    {
     "name": "stdout",
     "output_type": "stream",
     "text": [
      "Model: \"HANDMD\"\n",
      "_________________________________________________________________\n",
      " Layer (type)                Output Shape              Param #   \n",
      "=================================================================\n",
      " conv2d (Conv2D)             (None, 26, 26, 64)        1792      \n",
      "                                                                 \n",
      " conv2d_1 (Conv2D)           (None, 24, 24, 128)       73856     \n",
      "                                                                 \n",
      " max_pooling2d (MaxPooling2  (None, 12, 12, 128)       0         \n",
      " D)                                                              \n",
      "                                                                 \n",
      " dropout (Dropout)           (None, 12, 12, 128)       0         \n",
      "                                                                 \n",
      " flatten (Flatten)           (None, 18432)             0         \n",
      "                                                                 \n",
      " dense (Dense)               (None, 256)               4718848   \n",
      "                                                                 \n",
      " dropout_1 (Dropout)         (None, 256)               0         \n",
      "                                                                 \n",
      " dense_1 (Dense)             (None, 31)                7967      \n",
      "                                                                 \n",
      "=================================================================\n",
      "Total params: 4802463 (18.32 MB)\n",
      "Trainable params: 4802463 (18.32 MB)\n",
      "Non-trainable params: 0 (0.00 Byte)\n",
      "_________________________________________________________________\n"
     ]
    }
   ],
   "source": [
    "model = Sequential(name = 'HANDMD')\n",
    "\n",
    "model.add(Conv2D(64, kernel_size=(3, 3), input_shape = (28, 28, 3),\n",
    "activation='relu'))\n",
    "\n",
    "model.add(Conv2D(128, (3, 3), activation = 'relu'))\n",
    "model.add(MaxPooling2D(pool_size=(2, 2)))\n",
    "model.add(Dropout(0.25))\n",
    "model.add(Flatten())\n",
    "\n",
    "model.add(Dense(256, activation='relu'))\n",
    "model.add(Dropout(0.5))\n",
    "model.add(Dense(31, activation='softmax'))\n",
    "\n",
    "model.summary()"
   ]
  },
  {
   "cell_type": "code",
   "execution_count": 19,
   "metadata": {},
   "outputs": [],
   "source": [
    "# 모델 컴파일\n",
    "model.compile(optimizer='adam', loss='sparse_categorical_crossentropy', metrics=['accuracy'])"
   ]
  },
  {
   "cell_type": "code",
   "execution_count": 20,
   "metadata": {},
   "outputs": [],
   "source": [
    "# 학습에 사용될 값들\n",
    "EPOCHS, BATCH_SIZE, VAL_SPLIT = 100, 32, 0.2"
   ]
  },
  {
   "cell_type": "code",
   "execution_count": 21,
   "metadata": {},
   "outputs": [],
   "source": [
    "# callback 객체 - (1) 학습 진행 중 모델 저장\n",
    "# from keras.callbacks import ModelCheckpoint, EarlyStopping, LearningRateScheduler\n",
    "from keras.callbacks import ModelCheckpoint, LearningRateScheduler\n",
    "\n",
    "import os"
   ]
  },
  {
   "cell_type": "code",
   "execution_count": 22,
   "metadata": {},
   "outputs": [],
   "source": [
    "M_PATH = './FFFFinal/'"
   ]
  },
  {
   "cell_type": "code",
   "execution_count": 23,
   "metadata": {},
   "outputs": [],
   "source": [
    "if not os.path.exists(M_PATH) :\n",
    "    os.mkdir(M_PATH)\n",
    "    print(f'{M_PATH} 생성')"
   ]
  },
  {
   "cell_type": "code",
   "execution_count": 24,
   "metadata": {},
   "outputs": [],
   "source": [
    "M_FILE = M_PATH + 'model_{epoch:03}.h5' \n",
    "mcCB = ModelCheckpoint(M_FILE, save_best_only=True)"
   ]
  },
  {
   "cell_type": "code",
   "execution_count": 25,
   "metadata": {},
   "outputs": [],
   "source": [
    "# 모델 개선 여부 체크 후 조기 종료 처리 콜 백 객체\n",
    "# 조기 종료 기준 : val_loss가 3에포크동안 감소되지 않으면 \n",
    "esCB = EarlyStopping(patience=10)"
   ]
  },
  {
   "cell_type": "code",
   "execution_count": 26,
   "metadata": {},
   "outputs": [],
   "source": [
    "# 에포크마다의 학습률 제어 콜 백 객체\n",
    "def scheduler(epoch, lr):\n",
    "    if epoch >= 5:\n",
    "        return lr * 0.00001\n",
    "    else:\n",
    "        return lr\n",
    "\n",
    "lrDB = LearningRateScheduler(scheduler)"
   ]
  },
  {
   "cell_type": "code",
   "execution_count": 27,
   "metadata": {},
   "outputs": [
    {
     "name": "stdout",
     "output_type": "stream",
     "text": [
      "Epoch 1/100\n",
      "214/214 [==============================] - 15s 68ms/step - loss: 2.5399 - accuracy: 0.2711 - val_loss: 0.8463 - val_accuracy: 0.7644 - lr: 0.0010\n",
      "Epoch 2/100\n",
      "  1/214 [..............................] - ETA: 16s - loss: 1.2426 - accuracy: 0.5938"
     ]
    },
    {
     "name": "stderr",
     "output_type": "stream",
     "text": [
      "c:\\Users\\user\\anaconda3\\envs\\MY_PYTHON3\\lib\\site-packages\\keras\\src\\engine\\training.py:3000: UserWarning: You are saving your model as an HDF5 file via `model.save()`. This file format is considered legacy. We recommend using instead the native Keras format, e.g. `model.save('my_model.keras')`.\n",
      "  saving_api.save_model(\n"
     ]
    },
    {
     "name": "stdout",
     "output_type": "stream",
     "text": [
      "214/214 [==============================] - 15s 71ms/step - loss: 0.6738 - accuracy: 0.7849 - val_loss: 0.1439 - val_accuracy: 0.9688 - lr: 0.0010\n",
      "Epoch 3/100\n",
      "214/214 [==============================] - 15s 72ms/step - loss: 0.2404 - accuracy: 0.9233 - val_loss: 0.0612 - val_accuracy: 0.9890 - lr: 0.0010\n",
      "Epoch 4/100\n",
      "214/214 [==============================] - 16s 73ms/step - loss: 0.1548 - accuracy: 0.9520 - val_loss: 0.0360 - val_accuracy: 0.9930 - lr: 0.0010\n",
      "Epoch 5/100\n",
      "214/214 [==============================] - 17s 79ms/step - loss: 0.1070 - accuracy: 0.9643 - val_loss: 0.0234 - val_accuracy: 0.9934 - lr: 0.0010\n",
      "Epoch 6/100\n",
      "214/214 [==============================] - 18s 82ms/step - loss: 0.0801 - accuracy: 0.9748 - val_loss: 0.0234 - val_accuracy: 0.9934 - lr: 1.0000e-08\n",
      "Epoch 7/100\n",
      "214/214 [==============================] - 18s 85ms/step - loss: 0.0823 - accuracy: 0.9753 - val_loss: 0.0234 - val_accuracy: 0.9934 - lr: 1.0000e-13\n",
      "Epoch 8/100\n",
      "214/214 [==============================] - 19s 90ms/step - loss: 0.0801 - accuracy: 0.9782 - val_loss: 0.0234 - val_accuracy: 0.9934 - lr: 1.0000e-18\n",
      "Epoch 9/100\n",
      "214/214 [==============================] - 22s 101ms/step - loss: 0.0843 - accuracy: 0.9741 - val_loss: 0.0234 - val_accuracy: 0.9934 - lr: 1.0000e-23\n",
      "Epoch 10/100\n",
      "214/214 [==============================] - 25s 115ms/step - loss: 0.0821 - accuracy: 0.9753 - val_loss: 0.0234 - val_accuracy: 0.9934 - lr: 1.0000e-28\n",
      "Epoch 11/100\n",
      "214/214 [==============================] - 28s 132ms/step - loss: 0.0797 - accuracy: 0.9760 - val_loss: 0.0234 - val_accuracy: 0.9934 - lr: 1.0000e-33\n",
      "Epoch 12/100\n",
      "214/214 [==============================] - 22s 105ms/step - loss: 0.0799 - accuracy: 0.9751 - val_loss: 0.0234 - val_accuracy: 0.9934 - lr: 1.0000e-38\n",
      "Epoch 13/100\n",
      "214/214 [==============================] - 19s 87ms/step - loss: 0.0884 - accuracy: 0.9737 - val_loss: 0.0234 - val_accuracy: 0.9934 - lr: 9.9492e-44\n",
      "Epoch 14/100\n",
      "214/214 [==============================] - 19s 90ms/step - loss: 0.0911 - accuracy: 0.9719 - val_loss: 0.0234 - val_accuracy: 0.9934 - lr: 0.0000e+00\n",
      "Epoch 15/100\n",
      "214/214 [==============================] - 21s 98ms/step - loss: 0.0812 - accuracy: 0.9763 - val_loss: 0.0234 - val_accuracy: 0.9934 - lr: 0.0000e+00\n",
      "Epoch 16/100\n",
      "214/214 [==============================] - 24s 112ms/step - loss: 0.0798 - accuracy: 0.9747 - val_loss: 0.0234 - val_accuracy: 0.9934 - lr: 0.0000e+00\n"
     ]
    }
   ],
   "source": [
    "# 학습 진행\n",
    "result = model.fit(train_X, train_y, validation_data = (test_X, test_y), validation_split=VAL_SPLIT, epochs=EPOCHS, batch_size=BATCH_SIZE, callbacks=[mcCB, lrDB, esCB])"
   ]
  },
  {
   "cell_type": "code",
   "execution_count": 28,
   "metadata": {},
   "outputs": [],
   "source": [
    "# # from tensorflow.keras.utils import to_categorical\n",
    "\n",
    "# # # train_y를 원-핫 인코딩으로 변환\n",
    "# # train_y = to_categorical(train_y, num_classes=31)\n",
    "\n",
    "# from tensorflow.keras.utils import to_categorical\n",
    "\n",
    "# # # train_y를 원-핫 인코딩으로 변환\n",
    "# # train_y_encoded = to_categorical(train_y, num_classes=31)"
   ]
  },
  {
   "cell_type": "code",
   "execution_count": 29,
   "metadata": {},
   "outputs": [],
   "source": [
    "# model.summary()"
   ]
  },
  {
   "cell_type": "code",
   "execution_count": 30,
   "metadata": {},
   "outputs": [],
   "source": [
    "# model.compile(optimizer='adam', loss='categorical_crossentropy', metrics=['accuracy'])"
   ]
  },
  {
   "cell_type": "code",
   "execution_count": 31,
   "metadata": {},
   "outputs": [],
   "source": [
    "# # 학습에 사용될 값들\n",
    "# EPOCHS, BATCH_SIZE, VAL_SPLIT = 100, 32, 0.2"
   ]
  },
  {
   "cell_type": "code",
   "execution_count": 32,
   "metadata": {},
   "outputs": [],
   "source": [
    "# # callback 객체 - (1) 학습 진행 중 모델 저장\n",
    "# from keras.callbacks import ModelCheckpoint, EarlyStopping, LearningRateScheduler\n",
    "# import os"
   ]
  },
  {
   "cell_type": "code",
   "execution_count": 33,
   "metadata": {},
   "outputs": [],
   "source": [
    "M_PATH = './test_model/'"
   ]
  },
  {
   "cell_type": "code",
   "execution_count": 34,
   "metadata": {},
   "outputs": [],
   "source": [
    "if not os.path.exists(M_PATH) :\n",
    "    os.mkdir(M_PATH)\n",
    "    print(f'{M_PATH} 생성')"
   ]
  },
  {
   "cell_type": "code",
   "execution_count": 35,
   "metadata": {},
   "outputs": [],
   "source": [
    "M_FILE = M_PATH + 'model_{epoch:03}.h5' \n",
    "mcCB = ModelCheckpoint(M_FILE, save_best_only=True)"
   ]
  },
  {
   "cell_type": "code",
   "execution_count": 36,
   "metadata": {},
   "outputs": [],
   "source": [
    "# # 모델 개선 여부 체크 후 조기 종료 처리 콜 백 객체\n",
    "# # 조기 종료 기준 : val_loss가 3에포크동안 감소되지 않으면 \n",
    "# esCB = EarlyStopping(patience=3)"
   ]
  },
  {
   "cell_type": "code",
   "execution_count": 37,
   "metadata": {},
   "outputs": [],
   "source": [
    "# # 에포크마다의 학습률 제어 콜 백 객체\n",
    "# def scheduler(epoch, lr):\n",
    "#     if epoch >= 5:\n",
    "#         return lr * 0.00001\n",
    "#     else:\n",
    "#         return lr\n",
    "\n",
    "# lrDB = LearningRateScheduler(scheduler)"
   ]
  },
  {
   "cell_type": "code",
   "execution_count": 38,
   "metadata": {},
   "outputs": [],
   "source": [
    "# # 모델 컴파일\n",
    "# model.compile(optimizer='adam', loss='categorical_crossentropy', metrics=['accuracy'])\n",
    "\n",
    "# # 학습 진행\n",
    "# result = model.fit(train_X, train_y_encoded, validation_split=VAL_SPLIT, epochs=EPOCHS, batch_size=BATCH_SIZE, callbacks=[mcCB, esCB, lrDB])"
   ]
  },
  {
   "cell_type": "code",
   "execution_count": 39,
   "metadata": {},
   "outputs": [],
   "source": [
    "# model.save(\"./my_model_1.h5\")"
   ]
  },
  {
   "cell_type": "code",
   "execution_count": 40,
   "metadata": {},
   "outputs": [],
   "source": [
    "# from tensorflow.keras.models import load_model\n",
    "# loaded_model = load_model(\"./my_model_1.h5\")"
   ]
  },
  {
   "cell_type": "code",
   "execution_count": 41,
   "metadata": {},
   "outputs": [],
   "source": [
    "# test_y_encoded = to_categorical(test_y, num_classes=31)\n",
    "# train_y_encoded = to_categorical(train_y, num_classes=31)"
   ]
  },
  {
   "cell_type": "code",
   "execution_count": 42,
   "metadata": {},
   "outputs": [],
   "source": [
    "# test_loss, test_accuracy = loaded_model.evaluate(test_X, test_y_encoded)\n",
    "# print(f\"Test Loss: {test_loss}, Test Accuracy: {test_accuracy}\")"
   ]
  },
  {
   "cell_type": "code",
   "execution_count": 43,
   "metadata": {},
   "outputs": [],
   "source": [
    "# import pandas as pd\n",
    "# import numpy as np\n",
    "# import cv2\n",
    "# import matplotlib.pyplot as plt\n",
    "# import os, glob\n",
    "# import gzip,tarfile\n",
    "# import random"
   ]
  },
  {
   "cell_type": "code",
   "execution_count": 44,
   "metadata": {},
   "outputs": [],
   "source": [
    "# 모듈 불러오기\n",
    "from keras.models import load_model\n",
    "# final_model=load_model('./models/modeltest.h5')  #윤성원\n",
    "# final_model=load_model('./models/model_hand.hdf5')  # 박선경\n",
    "final_model=load_model('./my_model_1.h5')"
   ]
  },
  {
   "cell_type": "code",
   "execution_count": 50,
   "metadata": {},
   "outputs": [],
   "source": [
    "# 폴더 불러오기\n",
    "files=['./test_img\\\\test (1).jpg','./test_img\\\\test (2).jpg','./test_img\\\\test (3).png',\n",
    "       './test_img\\\\test (4).jpg','./test_img\\\\test (5).jpg','./test_img\\\\test (6).jpg',\n",
    "       './test_img\\\\test (7).jpg','./test_img\\\\test (8).jpg','./test_img\\\\test (9).png','./test_img\\\\test (10).jpg',\n",
    "       './test_img\\\\test (11).jpg','./test_img\\\\test (12).jpg','./test_img\\\\test (13).jpg','./test_img\\\\test (14).jpg',\n",
    "       './test_img\\\\test (15).png','./test_img\\\\test (16).jpg']"
   ]
  },
  {
   "cell_type": "code",
   "execution_count": 51,
   "metadata": {},
   "outputs": [
    {
     "name": "stdout",
     "output_type": "stream",
     "text": [
      "1/1 [==============================] - 0s 15ms/step\n",
      "1/1 [==============================] - 0s 17ms/step\n",
      "1/1 [==============================] - 0s 13ms/step\n",
      "1/1 [==============================] - 0s 16ms/step\n",
      "1/1 [==============================] - 0s 16ms/step\n",
      "1/1 [==============================] - 0s 16ms/step\n",
      "1/1 [==============================] - 0s 30ms/step\n",
      "1/1 [==============================] - 0s 14ms/step\n",
      "1/1 [==============================] - 0s 16ms/step\n",
      "1/1 [==============================] - 0s 27ms/step\n",
      "1/1 [==============================] - 0s 18ms/step\n",
      "1/1 [==============================] - 0s 17ms/step\n",
      "1/1 [==============================] - 0s 16ms/step\n",
      "1/1 [==============================] - 0s 22ms/step\n",
      "1/1 [==============================] - 0s 13ms/step\n",
      "1/1 [==============================] - 0s 24ms/step\n",
      "['ㅂ', 'ㅍ', 'ㄱ', 'ㅍ', 'ㅜ', 'ㄷ', 'ㄱ', 'ㅣ', 'ㅎ', 'ㅗ', 'ㅏ', 'ㅇ', 'ㅣ', 'ㅌ', 'ㅣ', 'ㅇ']\n"
     ]
    }
   ],
   "source": [
    "def model_predict(image_list, resize_, model):\n",
    "    predict_list=[]\n",
    "    for img_path in image_list:\n",
    "        \n",
    "        img = cv2.imread(img_path)\n",
    "        img = cv2.cvtColor(img, cv2.COLOR_BGR2RGB)  # 이미지를 BGR에서 RGB로 변환\n",
    "        img = cv2.resize(img, resize_)  # 이미지 크기 조정\n",
    "\n",
    "        # 이미지를 모델이 예상하는 형식으로 전처리\n",
    "        img = img / 255.0  # 이미지를 0~1 범위로 스케일링\n",
    "        img = np.expand_dims(img, axis=0)  # 배치 차원 추가 (1개의 이미지를 처리하기 위해)\n",
    "\n",
    "        predictions = model.predict(img)  # 예측\n",
    "\n",
    "        label_class = {\n",
    "        0: 'ㄱ', 1: 'ㄴ', 2: 'ㄷ', 3: 'ㄹ', 4: 'ㅁ', 5: 'ㅂ', 6: 'ㅅ', 7: 'ㅇ', 8: 'ㅈ', 9: 'ㅊ',\n",
    "        10: 'ㅋ', 11: 'ㅌ', 12: 'ㅍ', 13: 'ㅎ', 14: 'ㅏ', 15: 'ㅑ', 16: 'ㅓ', 17: 'ㅕ', 18: 'ㅗ',\n",
    "        19: 'ㅛ', 20: 'ㅜ', 21: 'ㅠ', 22: 'ㅡ', 23: 'ㅣ', 24: 'ㅐ', 25: 'ㅒ', 26: 'ㅔ', 27: 'ㅖ',\n",
    "        28: 'ㅢ', 29: 'ㅚ', 30: 'ㅟ'\n",
    "        }\n",
    "        predicted_class = np.argmax(predictions)\n",
    "        predicted_label = label_class[predicted_class]\n",
    "        predict_list.append(predicted_label)\n",
    "    print(predict_list)\n",
    "\n",
    "# 예시로 파일 리스트(files)를 사용하여 모델 예측\n",
    "\n",
    "model_predict(files, (28,28), final_model)"
   ]
  },
  {
   "cell_type": "code",
   "execution_count": 52,
   "metadata": {},
   "outputs": [],
   "source": [
    "y_vloss = result.history['val_loss']\n",
    "y_loss = result.history['loss']"
   ]
  },
  {
   "cell_type": "code",
   "execution_count": 53,
   "metadata": {},
   "outputs": [
    {
     "data": {
      "image/png": "[encoded data removed]",
      "text/plain": [
       "<Figure size 640x480 with 1 Axes>"
      ]
     },
     "metadata": {},
     "output_type": "display_data"
    }
   ],
   "source": [
    "# 그래프로 표현\n",
    "x_len = np.arange(len(y_loss))\n",
    "plt.plot(x_len, y_vloss, marker = '.', c = 'red', label = 'Test_loss')\n",
    "plt.plot(x_len, y_loss, marker = '.', c = 'blue', label = 'Train_loss')\n",
    "\n",
    "plt.legend(loc='upper right')\n",
    "plt.grid()\n",
    "plt.xlabel('epoch')\n",
    "plt.ylabel('loss')\n",
    "plt.show()"
   ]
  },
  {
   "cell_type": "code",
   "execution_count": 54,
   "metadata": {},
   "outputs": [
    {
     "data": {
      "image/png": "[encoded data removed]",
      "text/plain": [
       "<Figure size 640x480 with 1 Axes>"
      ]
     },
     "metadata": {},
     "output_type": "display_data"
    }
   ],
   "source": [
    "y_vaccuracy = result.history['val_accuracy']\n",
    "y_accuracy = result.history['accuracy']\n",
    "\n",
    "# 그래프로 표현\n",
    "x_len = np.arange(len(y_accuracy))\n",
    "plt.plot(x_len, y_vaccuracy, marker = '.', c = 'red', label = 'Test_accuracy')\n",
    "plt.plot(x_len, y_accuracy, marker = '.', c = 'blue', label = 'Train_accuracy')\n",
    "\n",
    "plt.legend(loc='upper right')\n",
    "plt.grid()\n",
    "plt.xlabel('epoch')\n",
    "plt.ylabel('accuracy')\n",
    "plt.show()"
   ]
  },
  {
   "cell_type": "code",
   "execution_count": null,
   "metadata": {},
   "outputs": [],
   "source": []
  }
 ],
 "metadata": {
  "kernelspec": {
   "display_name": "MY_PYTHON3",
   "language": "python",
   "name": "python3"
  },
  "language_info": {
   "codemirror_mode": {
    "name": "ipython",
    "version": 3
   },
   "file_extension": ".py",
   "mimetype": "text/x-python",
   "name": "python",
   "nbconvert_exporter": "python",
   "pygments_lexer": "ipython3",
   "version": "3.8.18"
  },
  "orig_nbformat": 4
 },
 "nbformat": 4,
 "nbformat_minor": 2
}
