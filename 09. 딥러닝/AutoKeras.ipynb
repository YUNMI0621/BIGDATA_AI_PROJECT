{
 "cells": [
  {
   "cell_type": "code",
   "execution_count": 61,
   "metadata": {},
   "outputs": [],
   "source": [
    "import pandas as pd\n",
    "import numpy as np\n",
    "import cv2\n",
    "import matplotlib.pyplot as plt\n",
    "import os, glob\n",
    "import gzip,tarfile\n",
    "\n",
    "# class ImageMaker:\n",
    "#     '''\n",
    "#     한 장의 사진으로 회전, 대칭 등 변환해서 여러장으로 만드는 클래스\n",
    "#     data_path_ :  원본 데이터 경로\n",
    "#     new_path_: 새롭게 저장할 경로\n",
    "#     title_:이미지 파일 이름\n",
    "#     '''\n",
    "\n",
    "#     # 객체 생성\n",
    "#     def __init__(self,data_path_,new_path_,title_):\n",
    "#         self.data_path=data_path_\n",
    "#         self.new_path = new_path_\n",
    "#         self.title = title_\n",
    "#         self.num_i = 1\n",
    "\n",
    "#     # 새로운 폴더 만들기\n",
    "#     def create_new_folder(self):\n",
    "#         if not os.path.exists(self.new_path):\n",
    "#             os.makedirs(self.new_path)\n",
    "#         else:pass\n",
    "\n",
    "#     # 이미지 크기 조절, 그레이 스케일, 누끼 등\n",
    "#     def resize_images(self,dsize_):\n",
    "#         images=glob.glob(self.data_path+'*')\n",
    "\n",
    "#         for image in images:\n",
    "#             org=cv2.imread(image,cv2.IMREAD_GRAYSCALE)  # 그레이스케일\n",
    "            \n",
    "#             # 배경 지우기(누끼 따기)\n",
    "#             # org=remove(org)\n",
    "\n",
    "#             '''이미지 크기 조절\n",
    "#             - cv2.resize(src,이미지크기)\n",
    "#             - src : 원본이미지'''\n",
    "#             resized_=cv2.resize(org,dsize_)\n",
    "#             cv2.imwrite(self.new_path+f'{self.title}_{self.num_i}.png',resized_)\n",
    "#             self.num_i += 1\n",
    "\n",
    "\n",
    "#     # 이미지 회전\n",
    "#     def rotate_images(self,degrees_):\n",
    "#     # 회전 행렬 생성 : cv2.getRotationMatrix2D(중심축,각도,비율)\n",
    "#     # 회전 변환 행렬에 따른 회전 이미지 반환: cv2.warpAffine(src,회전 행렬,(w,h))\n",
    "#         images=glob.glob(self.new_path+'*')\n",
    "\n",
    "#         for image in images:\n",
    "#             img=cv2.imread(image)\n",
    "#             # 이미지 높이, 너비 채널 정보 추출 => 높이 , 너비 이용 회전 중심점 설정\n",
    "#             h,w,c=img.shape\n",
    "\n",
    "#             for degree in degrees_:\n",
    "#                 matrix=cv2.getRotationMatrix2D((w/2,h/2),degree,0.9) #<= 비율\n",
    "#                 rotate_=cv2.warpAffine(img,matrix,(w,h))\n",
    "#                 cv2.imwrite(image.replace('.png',f'_rotate({degree}).png'),rotate_)\n",
    "    \n",
    "#     # # 이미지 블러\n",
    "#     # def blur_images(self,blur_range):\n",
    "#     # # cv2.GaussianBlur(src,ksize,표준편차)\n",
    "#     # # ksize: 커널 크기. (가로, 세로) 튜플 (홀수만), 크기 커질수록 블러 강화\n",
    "#     #     images=glob.glob(self.new_path+'*')\n",
    "\n",
    "#     #     for image in images:\n",
    "#     #         img=cv2.imread(image)\n",
    "\n",
    "#     #         for b in blur_range:\n",
    "#     #             blur_=cv2.GaussianBlur(img,(b,b),0)\n",
    "#     #             cv2.imwrite(image.replace('.png',f'_blur({b}).png'),blur_)\n",
    "\n",
    "\n",
    "#     # 실행 !!!!!!!!!!!!!!!\n",
    "#     def run(self):\n",
    "#         self.create_new_folder()\n",
    "#         self.resize_images((28,28))  #<= 크기 \n",
    "#         degrees1=list(range(1,11,1))+list(range(350,360,1))\n",
    "#         self.rotate_images(degrees1)\n",
    "\n",
    "# # 폴더 불러오기\n",
    "# filepath='./HAND/'\n",
    "# files=glob.glob(filepath+'*')\n",
    "# files\n",
    "\n",
    "# for image_folder in files:\n",
    "#     data_path=image_folder+'/'\n",
    "#     new_path=f'{image_folder[:2]}new{image_folder[2:]}/'\n",
    "#     title=f'{image_folder[7:]}'\n",
    "#     name=title+'maker'\n",
    "#     name=ImageMaker(data_path, new_path, title)\n",
    "#     name.run()"
   ]
  },
  {
   "cell_type": "code",
   "execution_count": 62,
   "metadata": {},
   "outputs": [
    {
     "name": "stdout",
     "output_type": "stream",
     "text": [
      "(9114, 2352) (9114,) 21436128\n"
     ]
    }
   ],
   "source": [
    "# 폴더 불러오기\n",
    "filepath='./newHAND/'\n",
    "files=glob.glob(filepath+'*')\n",
    "files\n",
    "\n",
    "data_list = []\n",
    "label_list = []\n",
    "\n",
    "for image_folder in files:\n",
    "    imgs = glob.glob(image_folder + '/*')\n",
    "    label_list.extend([f'{image_folder[11:]}']*len(imgs))\n",
    "\n",
    "    for img_path in imgs:\n",
    "        # 이미지 파일 읽기 \n",
    "        img = cv2.imread(img_path).reshape(-1)\n",
    "        data_list.append(img)\n",
    "\n",
    "# 리스트를 NumPy 배열로 변환\n",
    "imgNP = np.array(data_list).astype('uint16')     # 용량 많.astype('uint16')으면  # 써서 줄이기\n",
    "label = np.array(label_list)\n",
    "\n",
    "#스케일링\n",
    "imgNP=imgNP/255\n",
    "\n",
    "print(imgNP.shape, label.shape,imgNP.size)"
   ]
  },
  {
   "cell_type": "code",
   "execution_count": 63,
   "metadata": {},
   "outputs": [],
   "source": [
    "# # 라벨 원핫인코딩\n",
    "# from keras.utils import to_categorical\n",
    "# label_encoded=to_categorical(label)\n",
    "# label_encoded"
   ]
  },
  {
   "cell_type": "code",
   "execution_count": 64,
   "metadata": {},
   "outputs": [
    {
     "name": "stdout",
     "output_type": "stream",
     "text": [
      "(9114, 28, 28, 3) (9114,) 4\n"
     ]
    }
   ],
   "source": [
    "data_list = []\n",
    "label_list = []\n",
    "label_Dict={\n",
    "    'J1': 0, 'J2': 1, 'J3': 2, 'J4': 3, 'J5': 4, 'J6': 5, 'J7': 6, 'J8': 7, 'J9': 8, 'J10': 9,\n",
    "    'J11': 10, 'J12': 11, 'J13': 12, 'J14': 13, 'M1': 14, 'M2': 15, 'M3': 16, 'M4': 17, 'M5': 18,\n",
    "    'M6': 19, 'M7': 20, 'M8': 21, 'M9': 22, 'M10': 23, 'M11': 24, 'M12': 25, 'M13': 26, 'M14': 27,\n",
    "    'M15': 28, 'M16': 29, 'M17': 30\n",
    "}\n",
    "\n",
    "for image_folder in files:\n",
    "    imgs = glob.glob(image_folder + '/*')\n",
    "    # label_list.extend(str(label_Dict[f'{image_folder[10:]}'])*len(imgs))\n",
    "    label = label_Dict[f'{image_folder[10:]}']\n",
    "\n",
    "    for img_path in imgs:\n",
    "        # 이미지 파일 읽기 \n",
    "        img = cv2.imread(img_path) #,cv2.IMREAD_GRAYSCALE\n",
    "        data_list.append(img)\n",
    "        label_list.append(label)\n",
    "\n",
    "# 리스트를 NumPy 배열로 변환\n",
    "imgNP = np.array(data_list).astype('uint8')     # 용량 많.astype('uint16')으면  # 써서 줄이기\n",
    "label = np.array(label_list)\n",
    "\n",
    "#스케일링\n",
    "imgNP=imgNP/255    # 배경 흑백 하고 싶으면 (255-imgNP)\n",
    "\n",
    "print(imgNP.shape, label.shape,imgNP.ndim)"
   ]
  },
  {
   "cell_type": "code",
   "execution_count": 68,
   "metadata": {},
   "outputs": [
    {
     "name": "stdout",
     "output_type": "stream",
     "text": [
      "Trial 1 Complete [00h 05m 38s]\n",
      "val_loss: 0.0034491722472012043\n",
      "\n",
      "Best val_loss So Far: 0.0034491722472012043\n",
      "Total elapsed time: 00h 05m 38s\n",
      "INFO:tensorflow:Oracle triggered exit\n"
     ]
    },
    {
     "name": "stderr",
     "output_type": "stream",
     "text": [
      "INFO:tensorflow:Oracle triggered exit\n"
     ]
    },
    {
     "name": "stdout",
     "output_type": "stream",
     "text": [
      "Epoch 1/100\n",
      "228/228 [==============================] - 10s 40ms/step - loss: 1.6472 - accuracy: 0.5105\n",
      "Epoch 2/100\n",
      "228/228 [==============================] - 10s 44ms/step - loss: 0.3305 - accuracy: 0.8954\n",
      "Epoch 3/100\n",
      "228/228 [==============================] - 11s 47ms/step - loss: 0.1429 - accuracy: 0.9571\n",
      "Epoch 4/100\n",
      "228/228 [==============================] - 11s 49ms/step - loss: 0.1010 - accuracy: 0.9696\n",
      "Epoch 5/100\n",
      "228/228 [==============================] - 11s 49ms/step - loss: 0.0829 - accuracy: 0.9757\n",
      "Epoch 6/100\n",
      "228/228 [==============================] - 10s 43ms/step - loss: 0.0579 - accuracy: 0.9827\n",
      "Epoch 7/100\n",
      "228/228 [==============================] - 9s 40ms/step - loss: 0.0386 - accuracy: 0.9886\n",
      "Epoch 8/100\n",
      "228/228 [==============================] - 8s 33ms/step - loss: 0.0432 - accuracy: 0.9864\n",
      "Epoch 9/100\n",
      "228/228 [==============================] - 7s 31ms/step - loss: 0.0314 - accuracy: 0.9905\n",
      "Epoch 10/100\n",
      "228/228 [==============================] - 7s 32ms/step - loss: 0.0365 - accuracy: 0.9888\n",
      "Epoch 11/100\n",
      "228/228 [==============================] - 8s 34ms/step - loss: 0.0282 - accuracy: 0.9904\n",
      "Epoch 12/100\n",
      "228/228 [==============================] - 9s 39ms/step - loss: 0.0352 - accuracy: 0.9911\n",
      "Epoch 13/100\n",
      "228/228 [==============================] - 10s 44ms/step - loss: 0.0262 - accuracy: 0.9919\n",
      "Epoch 14/100\n",
      "228/228 [==============================] - 9s 41ms/step - loss: 0.0307 - accuracy: 0.9901\n",
      "Epoch 15/100\n",
      "228/228 [==============================] - 9s 40ms/step - loss: 0.0246 - accuracy: 0.9916\n",
      "Epoch 16/100\n",
      "228/228 [==============================] - 10s 44ms/step - loss: 0.0244 - accuracy: 0.9919\n",
      "Epoch 17/100\n",
      "228/228 [==============================] - 10s 46ms/step - loss: 0.0256 - accuracy: 0.9922\n",
      "Epoch 18/100\n",
      "228/228 [==============================] - 10s 45ms/step - loss: 0.0314 - accuracy: 0.9911\n",
      "Epoch 19/100\n",
      "228/228 [==============================] - 9s 40ms/step - loss: 0.0146 - accuracy: 0.9952\n",
      "Epoch 20/100\n",
      "228/228 [==============================] - 8s 36ms/step - loss: 0.0213 - accuracy: 0.9941\n",
      "Epoch 21/100\n",
      "228/228 [==============================] - 8s 35ms/step - loss: 0.0231 - accuracy: 0.9933\n",
      "Epoch 22/100\n",
      "228/228 [==============================] - 8s 33ms/step - loss: 0.0221 - accuracy: 0.9933\n",
      "Epoch 23/100\n",
      "228/228 [==============================] - 8s 36ms/step - loss: 0.0217 - accuracy: 0.9929\n",
      "Epoch 24/100\n",
      "228/228 [==============================] - 8s 35ms/step - loss: 0.0163 - accuracy: 0.9955\n",
      "Epoch 25/100\n",
      "228/228 [==============================] - 8s 35ms/step - loss: 0.0175 - accuracy: 0.9952\n",
      "Epoch 26/100\n",
      "228/228 [==============================] - 8s 37ms/step - loss: 0.0176 - accuracy: 0.9945\n",
      "Epoch 27/100\n",
      "228/228 [==============================] - 9s 39ms/step - loss: 0.0102 - accuracy: 0.9966\n",
      "Epoch 28/100\n",
      "228/228 [==============================] - 9s 42ms/step - loss: 0.0219 - accuracy: 0.9927\n",
      "Epoch 29/100\n",
      "228/228 [==============================] - 10s 45ms/step - loss: 0.0288 - accuracy: 0.9922\n",
      "Epoch 30/100\n",
      "228/228 [==============================] - 11s 50ms/step - loss: 0.0148 - accuracy: 0.9951\n",
      "Epoch 31/100\n",
      "228/228 [==============================] - 10s 46ms/step - loss: 0.0157 - accuracy: 0.9956\n",
      "Epoch 32/100\n",
      "228/228 [==============================] - 9s 39ms/step - loss: 0.0226 - accuracy: 0.9942\n",
      "Epoch 33/100\n",
      "228/228 [==============================] - 8s 35ms/step - loss: 0.0209 - accuracy: 0.9936\n",
      "Epoch 34/100\n",
      "228/228 [==============================] - 8s 35ms/step - loss: 0.0187 - accuracy: 0.9942\n",
      "Epoch 35/100\n",
      "228/228 [==============================] - 8s 36ms/step - loss: 0.0129 - accuracy: 0.9957\n",
      "Epoch 36/100\n",
      "228/228 [==============================] - 9s 37ms/step - loss: 0.0165 - accuracy: 0.9949\n",
      "Epoch 37/100\n",
      "228/228 [==============================] - 9s 39ms/step - loss: 0.0087 - accuracy: 0.9967\n",
      "Epoch 38/100\n",
      "228/228 [==============================] - 10s 42ms/step - loss: 0.0141 - accuracy: 0.9952\n",
      "Epoch 39/100\n",
      "228/228 [==============================] - 11s 48ms/step - loss: 0.0085 - accuracy: 0.9967\n",
      "Epoch 40/100\n",
      "228/228 [==============================] - 12s 50ms/step - loss: 0.0127 - accuracy: 0.9957\n",
      "Epoch 41/100\n",
      "228/228 [==============================] - 12s 52ms/step - loss: 0.0101 - accuracy: 0.9957\n",
      "Epoch 42/100\n",
      "228/228 [==============================] - 11s 47ms/step - loss: 0.0125 - accuracy: 0.9963\n",
      "Epoch 43/100\n",
      "228/228 [==============================] - 9s 41ms/step - loss: 0.0167 - accuracy: 0.9937\n",
      "Epoch 44/100\n",
      "228/228 [==============================] - 9s 38ms/step - loss: 0.0237 - accuracy: 0.9937\n",
      "Epoch 45/100\n",
      "228/228 [==============================] - 9s 39ms/step - loss: 0.0164 - accuracy: 0.9949\n",
      "Epoch 46/100\n",
      "228/228 [==============================] - 10s 43ms/step - loss: 0.0147 - accuracy: 0.9957\n",
      "Epoch 47/100\n",
      "228/228 [==============================] - 10s 43ms/step - loss: 0.0191 - accuracy: 0.9944\n",
      "Epoch 48/100\n",
      "228/228 [==============================] - 11s 49ms/step - loss: 0.0099 - accuracy: 0.9978\n",
      "Epoch 49/100\n",
      "228/228 [==============================] - 13s 56ms/step - loss: 0.0116 - accuracy: 0.9959\n",
      "Epoch 50/100\n",
      "228/228 [==============================] - 12s 54ms/step - loss: 0.0136 - accuracy: 0.9955\n",
      "Epoch 51/100\n",
      "228/228 [==============================] - 9s 41ms/step - loss: 0.0079 - accuracy: 0.9977\n",
      "Epoch 52/100\n",
      "228/228 [==============================] - 8s 37ms/step - loss: 0.0083 - accuracy: 0.9974\n",
      "Epoch 53/100\n",
      "228/228 [==============================] - 8s 35ms/step - loss: 0.0033 - accuracy: 0.9989\n",
      "Epoch 54/100\n",
      "228/228 [==============================] - 8s 34ms/step - loss: 0.0134 - accuracy: 0.9949\n",
      "Epoch 55/100\n",
      "228/228 [==============================] - 8s 35ms/step - loss: 0.0063 - accuracy: 0.9981\n",
      "Epoch 56/100\n",
      "228/228 [==============================] - 8s 37ms/step - loss: 0.0070 - accuracy: 0.9982\n",
      "Epoch 57/100\n",
      "228/228 [==============================] - 9s 38ms/step - loss: 0.0137 - accuracy: 0.9970\n",
      "Epoch 58/100\n",
      "228/228 [==============================] - 10s 42ms/step - loss: 0.0208 - accuracy: 0.9951\n",
      "Epoch 59/100\n",
      "228/228 [==============================] - 11s 49ms/step - loss: 0.0115 - accuracy: 0.9964\n",
      "Epoch 60/100\n",
      "228/228 [==============================] - 12s 54ms/step - loss: 0.0175 - accuracy: 0.9949\n",
      "Epoch 61/100\n",
      "228/228 [==============================] - 11s 50ms/step - loss: 0.0164 - accuracy: 0.9966\n",
      "Epoch 62/100\n",
      "228/228 [==============================] - 12s 53ms/step - loss: 0.0123 - accuracy: 0.9956\n",
      "Epoch 63/100\n",
      "228/228 [==============================] - 10s 43ms/step - loss: 0.0089 - accuracy: 0.9968\n",
      "Epoch 64/100\n",
      "228/228 [==============================] - 9s 39ms/step - loss: 0.0134 - accuracy: 0.9971\n",
      "Epoch 65/100\n",
      "228/228 [==============================] - 9s 39ms/step - loss: 0.0093 - accuracy: 0.9975\n",
      "Epoch 66/100\n",
      "228/228 [==============================] - 9s 41ms/step - loss: 0.0089 - accuracy: 0.9967\n",
      "Epoch 67/100\n",
      "228/228 [==============================] - 10s 44ms/step - loss: 0.0105 - accuracy: 0.9978\n",
      "Epoch 68/100\n",
      "228/228 [==============================] - 11s 48ms/step - loss: 0.0095 - accuracy: 0.9970\n",
      "Epoch 69/100\n",
      "228/228 [==============================] - 12s 52ms/step - loss: 0.0050 - accuracy: 0.9981\n",
      "Epoch 70/100\n",
      "228/228 [==============================] - 13s 56ms/step - loss: 0.0133 - accuracy: 0.9957\n",
      "Epoch 71/100\n",
      "228/228 [==============================] - 13s 57ms/step - loss: 0.0040 - accuracy: 0.9982\n",
      "Epoch 72/100\n",
      "228/228 [==============================] - 10s 45ms/step - loss: 0.0083 - accuracy: 0.9973\n",
      "Epoch 73/100\n",
      "228/228 [==============================] - 9s 41ms/step - loss: 0.0061 - accuracy: 0.9977\n",
      "Epoch 74/100\n",
      "228/228 [==============================] - 8s 36ms/step - loss: 0.0085 - accuracy: 0.9975\n",
      "Epoch 75/100\n",
      "228/228 [==============================] - 8s 37ms/step - loss: 0.0116 - accuracy: 0.9973\n",
      "Epoch 76/100\n",
      "228/228 [==============================] - 9s 38ms/step - loss: 0.0120 - accuracy: 0.9973\n",
      "Epoch 77/100\n",
      "228/228 [==============================] - 9s 38ms/step - loss: 0.0064 - accuracy: 0.9982\n",
      "Epoch 78/100\n",
      "228/228 [==============================] - 9s 38ms/step - loss: 0.0091 - accuracy: 0.9975\n",
      "Epoch 79/100\n",
      "228/228 [==============================] - 10s 43ms/step - loss: 0.0094 - accuracy: 0.9975\n",
      "Epoch 80/100\n",
      "228/228 [==============================] - 12s 53ms/step - loss: 0.0133 - accuracy: 0.9967\n",
      "Epoch 81/100\n",
      "228/228 [==============================] - 12s 52ms/step - loss: 0.0106 - accuracy: 0.9974\n",
      "Epoch 82/100\n",
      "228/228 [==============================] - 11s 49ms/step - loss: 0.0140 - accuracy: 0.9970\n",
      "Epoch 83/100\n",
      "228/228 [==============================] - 11s 48ms/step - loss: 0.0139 - accuracy: 0.9960\n",
      "Epoch 84/100\n",
      "228/228 [==============================] - 11s 47ms/step - loss: 0.0145 - accuracy: 0.9970\n",
      "Epoch 85/100\n",
      "228/228 [==============================] - 8s 35ms/step - loss: 0.0123 - accuracy: 0.9967\n",
      "Epoch 86/100\n",
      "228/228 [==============================] - 7s 33ms/step - loss: 0.0103 - accuracy: 0.9979\n",
      "Epoch 87/100\n",
      "228/228 [==============================] - 7s 31ms/step - loss: 0.0035 - accuracy: 0.9985\n",
      "Epoch 88/100\n",
      "228/228 [==============================] - 7s 33ms/step - loss: 0.0051 - accuracy: 0.9988\n",
      "Epoch 89/100\n",
      "228/228 [==============================] - 7s 32ms/step - loss: 0.0096 - accuracy: 0.9964\n",
      "Epoch 90/100\n",
      "228/228 [==============================] - 8s 33ms/step - loss: 0.0136 - accuracy: 0.9963\n",
      "Epoch 91/100\n",
      "228/228 [==============================] - 8s 34ms/step - loss: 0.0070 - accuracy: 0.9977\n",
      "Epoch 92/100\n",
      "228/228 [==============================] - 8s 36ms/step - loss: 0.0082 - accuracy: 0.9985\n",
      "Epoch 93/100\n",
      "228/228 [==============================] - 9s 37ms/step - loss: 0.0059 - accuracy: 0.9982\n",
      "Epoch 94/100\n",
      "228/228 [==============================] - 9s 40ms/step - loss: 0.0114 - accuracy: 0.9970\n",
      "Epoch 95/100\n",
      "228/228 [==============================] - 10s 43ms/step - loss: 0.0105 - accuracy: 0.9981\n",
      "Epoch 96/100\n",
      "228/228 [==============================] - 10s 43ms/step - loss: 0.0086 - accuracy: 0.9977\n",
      "Epoch 97/100\n",
      "228/228 [==============================] - 10s 44ms/step - loss: 0.0042 - accuracy: 0.9982\n",
      "Epoch 98/100\n",
      "228/228 [==============================] - 9s 41ms/step - loss: 0.0083 - accuracy: 0.9981\n",
      "Epoch 99/100\n",
      "228/228 [==============================] - 8s 36ms/step - loss: 0.0071 - accuracy: 0.9978\n",
      "Epoch 100/100\n",
      "228/228 [==============================] - 8s 35ms/step - loss: 0.0106 - accuracy: 0.9981\n",
      "INFO:tensorflow:Assets written to: .\\image_classifier\\best_model\\assets\n"
     ]
    },
    {
     "name": "stderr",
     "output_type": "stream",
     "text": [
      "INFO:tensorflow:Assets written to: .\\image_classifier\\best_model\\assets\n"
     ]
    },
    {
     "name": "stdout",
     "output_type": "stream",
     "text": [
      "57/57 [==============================] - 1s 7ms/step - loss: 0.0185 - accuracy: 0.9984\n",
      "Test accuracy: [0.018517427146434784, 0.9983543753623962]\n"
     ]
    }
   ],
   "source": [
    "from sklearn.model_selection import train_test_split\n",
    "import autokeras as ak\n",
    "import tensorflow as tf\n",
    "\n",
    "train_X, test_X, train_y, test_y = train_test_split(imgNP, label, stratify=label, test_size=0.2, random_state=10)\n",
    "\n",
    "# 오토케라스 분류 모델 생성\n",
    "clf = ak.ImageClassifier(overwrite=True, max_trials=1)  # max_trials은 시도할 모델의 수를 설정합니다.\n",
    "\n",
    "# 모델 훈련\n",
    "history = clf.fit(train_X, train_y, epochs=100)\n",
    "\n",
    "# 모델 평가\n",
    "score = clf.evaluate(test_X, test_y)\n",
    "print('Test accuracy:', score)"
   ]
  },
  {
   "cell_type": "code",
   "execution_count": 138,
   "metadata": {},
   "outputs": [
    {
     "name": "stderr",
     "output_type": "stream",
     "text": [
      "c:\\Users\\user\\anaconda3\\envs\\MY_PYTHON3\\lib\\site-packages\\keras\\src\\engine\\training.py:3000: UserWarning: You are saving your model as an HDF5 file via `model.save()`. This file format is considered legacy. We recommend using instead the native Keras format, e.g. `model.save('my_model.keras')`.\n",
      "  saving_api.save_model(\n"
     ]
    }
   ],
   "source": [
    "# 최적의 모델을 추출하고 저장\n",
    "best_model = clf.export_model()\n",
    "best_model.save('./final_best_model_100.h5')"
   ]
  },
  {
   "cell_type": "code",
   "execution_count": 139,
   "metadata": {},
   "outputs": [],
   "source": [
    "import pandas as pd\n",
    "import numpy as np\n",
    "import cv2\n",
    "import matplotlib.pyplot as plt\n",
    "import os, glob\n",
    "import gzip,tarfile\n",
    "import random"
   ]
  },
  {
   "cell_type": "code",
   "execution_count": 143,
   "metadata": {},
   "outputs": [],
   "source": [
    "# 모듈 불러오기\n",
    "from keras.models import load_model\n",
    "# final_model=load_model('./models/modeltest.h5')  #윤성원\n",
    "# final_model=load_model('./models/model_hand.hdf5')  # 박선경\n",
    "final_model = load_model('./final_best_model_100.h5')"
   ]
  },
  {
   "cell_type": "code",
   "execution_count": 146,
   "metadata": {},
   "outputs": [],
   "source": [
    "# 폴더 불러오기\n",
    "files=['./test_img\\\\test (1).jpg','./test_img\\\\test (2).jpg','./test_img\\\\test (3).png',\n",
    "       './test_img\\\\test (4).jpg','./test_img\\\\test (5).jpg','./test_img\\\\test (6).jpg',\n",
    "       './test_img\\\\test (7).jpg','./test_img\\\\test (8).jpg','./test_img\\\\test (9).png','./test_img\\\\test (10).jpg',\n",
    "       './test_img\\\\test (11).jpg','./test_img\\\\test (12).jpg','./test_img\\\\test (13).jpg','./test_img\\\\test (14).jpg',\n",
    "       './test_img\\\\test (15).png','./test_img\\\\test (16).jpg']"
   ]
  },
  {
   "cell_type": "code",
   "execution_count": 167,
   "metadata": {},
   "outputs": [
    {
     "name": "stdout",
     "output_type": "stream",
     "text": [
      "1/1 [==============================] - 0s 16ms/step\n",
      "1/1 [==============================] - 0s 25ms/step\n",
      "1/1 [==============================] - 0s 20ms/step\n",
      "1/1 [==============================] - 0s 10ms/step\n",
      "1/1 [==============================] - 0s 17ms/step\n",
      "1/1 [==============================] - 0s 28ms/step\n",
      "1/1 [==============================] - 0s 16ms/step\n",
      "1/1 [==============================] - 0s 17ms/step\n",
      "1/1 [==============================] - 0s 17ms/step\n",
      "1/1 [==============================] - 0s 10ms/step\n",
      "1/1 [==============================] - 0s 17ms/step\n",
      "1/1 [==============================] - 0s 16ms/step\n",
      "1/1 [==============================] - 0s 10ms/step\n",
      "1/1 [==============================] - 0s 16ms/step\n",
      "1/1 [==============================] - 0s 17ms/step\n",
      "1/1 [==============================] - 0s 17ms/step\n",
      "['ㅂ', 'ㅣ', 'ㄱ', 'ㅂ', 'ㅜ', 'ㄴ', 'ㅋ', 'ㅣ', 'ㅎ', 'ㅗ', 'ㅏ', 'ㅇ', 'ㅣ', 'ㅌ', 'ㅣ', 'ㅇ']\n"
     ]
    }
   ],
   "source": [
    "def model_predict(image_list, resize_, model):\n",
    "    predict_list=[]\n",
    "    for img_path in image_list:\n",
    "        \n",
    "        img = cv2.imread(img_path)\n",
    "        img = cv2.cvtColor(img, cv2.COLOR_BGR2RGB)  # 이미지를 BGR에서 RGB로 변환\n",
    "        img = cv2.resize(img, resize_)  # 이미지 크기 조정\n",
    "\n",
    "        # 이미지를 모델이 예상하는 형식으로 전처리\n",
    "        img = img / 255.0  # 이미지를 0~1 범위로 스케일링\n",
    "        img = np.expand_dims(img, axis=0)  # 배치 차원 추가 (1개의 이미지를 처리하기 위해)\n",
    "\n",
    "        predictions = model.predict(img)  # 예측\n",
    "\n",
    "        label_class = {\n",
    "        0: 'ㄱ', 1: 'ㄴ', 2: 'ㄷ', 3: 'ㄹ', 4: 'ㅁ', 5: 'ㅂ', 6: 'ㅅ', 7: 'ㅇ', 8: 'ㅈ', 9: 'ㅊ',\n",
    "        10: 'ㅋ', 11: 'ㅌ', 12: 'ㅍ', 13: 'ㅎ', 14: 'ㅏ', 15: 'ㅑ', 16: 'ㅓ', 17: 'ㅕ', 18: 'ㅗ',\n",
    "        19: 'ㅛ', 20: 'ㅜ', 21: 'ㅠ', 22: 'ㅡ', 23: 'ㅣ', 24: 'ㅐ', 25: 'ㅒ', 26: 'ㅔ', 27: 'ㅖ',\n",
    "        28: 'ㅢ', 29: 'ㅚ', 30: 'ㅟ'\n",
    "        }\n",
    "        predicted_class = np.argmax(predictions)\n",
    "        predicted_label = label_class[predicted_class]\n",
    "        predict_list.append(predicted_label)\n",
    "    print(predict_list)\n",
    "\n",
    "# 예시로 파일 리스트(files)를 사용하여 모델 예측\n",
    "\n",
    "predict_list=model_predict(files, (28,28), final_model)"
   ]
  },
  {
   "cell_type": "code",
   "execution_count": 133,
   "metadata": {},
   "outputs": [
    {
     "name": "stdout",
     "output_type": "stream",
     "text": [
      "57/57 [==============================] - 0s 6ms/step - loss: 0.0185 - accuracy: 0.9984\n",
      "Test accuracy: [0.018517427146434784, 0.9983543753623962]\n"
     ]
    }
   ],
   "source": [
    "# 모델 평가\n",
    "score = clf.evaluate(test_X, test_y)\n",
    "print('Test accuracy:', score)"
   ]
  },
  {
   "cell_type": "code",
   "execution_count": 134,
   "metadata": {},
   "outputs": [],
   "source": [
    "# 모델 훈련\n",
    "history = clf.fit(train_X, train_y, epochs=10, validation_split=0.2)"
   ]
  },
  {
   "cell_type": "code",
   "execution_count": 136,
   "metadata": {},
   "outputs": [],
   "source": [
    "image_path = './test_img/test_sung_2.jpg'\n",
    "image = cv2.imread(image_path)\n",
    "image = image[1500:3000, :1500]\n",
    "image = cv2.resize(image, (28, 28))"
   ]
  },
  {
   "cell_type": "code",
   "execution_count": 120,
   "metadata": {},
   "outputs": [
    {
     "data": {
      "text/plain": [
       "<matplotlib.image.AxesImage at 0x27eb7f7a250>"
      ]
     },
     "execution_count": 120,
     "metadata": {},
     "output_type": "execute_result"
    },
    {
     "data": {
      "image/png": "[encoded data removed]",
      "text/plain": [
       "<Figure size 640x480 with 1 Axes>"
      ]
     },
     "metadata": {},
     "output_type": "display_data"
    }
   ],
   "source": [
    "plt.imshow(image)"
   ]
  },
  {
   "cell_type": "code",
   "execution_count": 121,
   "metadata": {},
   "outputs": [],
   "source": [
    "image_array = np.array(image)\n",
    "image_array = image_array.astype('float32') / 255.0\n",
    "image_array = image_array.reshape(1, 28, 28, 3)"
   ]
  },
  {
   "cell_type": "code",
   "execution_count": 122,
   "metadata": {},
   "outputs": [
    {
     "name": "stdout",
     "output_type": "stream",
     "text": [
      "1/1 [==============================] - 0s 55ms/step\n",
      "1/1 [==============================] - 0s 11ms/step\n",
      "Predicted Class Label: 0\n"
     ]
    },
    {
     "data": {
      "image/png": "[encoded data removed]",
      "text/plain": [
       "<Figure size 640x480 with 1 Axes>"
      ]
     },
     "metadata": {},
     "output_type": "display_data"
    }
   ],
   "source": [
    "# 예측된 인덱스를 클래스 레이블로 변환\n",
    "predictions = clf.predict(image_array)\n",
    "predicted_class = np.argmax(predictions)\n",
    "# predicted_class_label = class_labels[predicted_class]\n",
    "plt.imshow(image)\n",
    "\n",
    "print(\"Predicted Class Label:\", predicted_class)"
   ]
  }
 ],
 "metadata": {
  "kernelspec": {
   "display_name": "MY_PYTHON3",
   "language": "python",
   "name": "python3"
  },
  "language_info": {
   "codemirror_mode": {
    "name": "ipython",
    "version": 3
   },
   "file_extension": ".py",
   "mimetype": "text/x-python",
   "name": "python",
   "nbconvert_exporter": "python",
   "pygments_lexer": "ipython3",
   "version": "3.8.18"
  },
  "orig_nbformat": 4
 },
 "nbformat": 4,
 "nbformat_minor": 2
}
