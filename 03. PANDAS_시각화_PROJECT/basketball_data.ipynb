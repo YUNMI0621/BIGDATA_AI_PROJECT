{
 "cells": [
  {
   "cell_type": "code",
   "execution_count": 1,
   "id": "6313e40d",
   "metadata": {},
   "outputs": [],
   "source": [
    "import pandas as pd\n",
    "import numpy as np"
   ]
  },
  {
   "cell_type": "markdown",
   "id": "e0b8a8d9",
   "metadata": {},
   "source": [
    "## [1] 데이터 준비\n",
    "- DF 로딩 / 기본 정보 확인"
   ]
  },
  {
   "cell_type": "code",
   "execution_count": 2,
   "id": "602ed64a",
   "metadata": {},
   "outputs": [],
   "source": [
    "file1 = '서울SK.xlsx'\n",
    "df1 = pd.read_excel(file1)\n",
    "\n",
    "file2 = '대구한국가스공사.xlsx'\n",
    "df2 = pd.read_excel(file2)\n",
    "\n",
    "file3 = '수원KT.xlsx'\n",
    "df3 = pd.read_excel(file3)\n",
    "\n",
    "file4 = '서울삼성.xlsx'\n",
    "df4 = pd.read_excel(file4)\n",
    "\n",
    "file5 = '고양캐롯.xlsx'\n",
    "df5 = pd.read_excel(file5)"
   ]
  },
  {
   "cell_type": "code",
   "execution_count": 10,
   "id": "7c84c471",
   "metadata": {
    "scrolled": true
   },
   "outputs": [
    {
     "data": {
      "text/html": [
       "<div>\n",
       "<style scoped>\n",
       "    .dataframe tbody tr th:only-of-type {\n",
       "        vertical-align: middle;\n",
       "    }\n",
       "\n",
       "    .dataframe tbody tr th {\n",
       "        vertical-align: top;\n",
       "    }\n",
       "\n",
       "    .dataframe thead th {\n",
       "        text-align: right;\n",
       "    }\n",
       "</style>\n",
       "<table border=\"1\" class=\"dataframe\">\n",
       "  <thead>\n",
       "    <tr style=\"text-align: right;\">\n",
       "      <th></th>\n",
       "      <th>선수명</th>\n",
       "      <th>팀</th>\n",
       "      <th>PTS</th>\n",
       "      <th>FG</th>\n",
       "      <th>FGA</th>\n",
       "      <th>FG%</th>\n",
       "      <th>FT</th>\n",
       "      <th>FTA</th>\n",
       "      <th>FT%</th>\n",
       "      <th>PP</th>\n",
       "      <th>PPA</th>\n",
       "      <th>PP%</th>\n",
       "      <th>OFF</th>\n",
       "      <th>DEF</th>\n",
       "      <th>TOT</th>\n",
       "      <th>AST</th>\n",
       "      <th>TO</th>\n",
       "      <th>STL</th>\n",
       "      <th>BS</th>\n",
       "      <th>PF</th>\n",
       "    </tr>\n",
       "  </thead>\n",
       "  <tbody>\n",
       "    <tr>\n",
       "      <th>1</th>\n",
       "      <td>자밀 워니</td>\n",
       "      <td>서울 SK</td>\n",
       "      <td>24.2</td>\n",
       "      <td>10.4</td>\n",
       "      <td>20.2</td>\n",
       "      <td>51.5</td>\n",
       "      <td>3.0</td>\n",
       "      <td>4.6</td>\n",
       "      <td>66.4</td>\n",
       "      <td>9.4</td>\n",
       "      <td>16.6</td>\n",
       "      <td>56.5</td>\n",
       "      <td>3.1</td>\n",
       "      <td>8.1</td>\n",
       "      <td>11.2</td>\n",
       "      <td>3.1</td>\n",
       "      <td>1.8</td>\n",
       "      <td>1.3</td>\n",
       "      <td>0.9</td>\n",
       "      <td>1.6</td>\n",
       "    </tr>\n",
       "    <tr>\n",
       "      <th>2</th>\n",
       "      <td>김선형</td>\n",
       "      <td>서울 SK</td>\n",
       "      <td>16.3</td>\n",
       "      <td>6.1</td>\n",
       "      <td>12.6</td>\n",
       "      <td>48.3</td>\n",
       "      <td>2.9</td>\n",
       "      <td>3.9</td>\n",
       "      <td>73.9</td>\n",
       "      <td>4.4</td>\n",
       "      <td>7.8</td>\n",
       "      <td>56.8</td>\n",
       "      <td>0.5</td>\n",
       "      <td>2.1</td>\n",
       "      <td>2.7</td>\n",
       "      <td>6.8</td>\n",
       "      <td>2.3</td>\n",
       "      <td>1.4</td>\n",
       "      <td>0.4</td>\n",
       "      <td>1.8</td>\n",
       "    </tr>\n",
       "    <tr>\n",
       "      <th>3</th>\n",
       "      <td>최준용</td>\n",
       "      <td>서울 SK</td>\n",
       "      <td>12.7</td>\n",
       "      <td>4.5</td>\n",
       "      <td>11.2</td>\n",
       "      <td>40.5</td>\n",
       "      <td>2.2</td>\n",
       "      <td>3.8</td>\n",
       "      <td>58.2</td>\n",
       "      <td>2.5</td>\n",
       "      <td>4.4</td>\n",
       "      <td>57.0</td>\n",
       "      <td>1.0</td>\n",
       "      <td>4.9</td>\n",
       "      <td>5.9</td>\n",
       "      <td>3.8</td>\n",
       "      <td>1.8</td>\n",
       "      <td>0.8</td>\n",
       "      <td>0.7</td>\n",
       "      <td>2.7</td>\n",
       "    </tr>\n",
       "    <tr>\n",
       "      <th>4</th>\n",
       "      <td>허일영</td>\n",
       "      <td>서울 SK</td>\n",
       "      <td>9.4</td>\n",
       "      <td>3.2</td>\n",
       "      <td>7.0</td>\n",
       "      <td>46.2</td>\n",
       "      <td>1.7</td>\n",
       "      <td>2.1</td>\n",
       "      <td>81.0</td>\n",
       "      <td>1.3</td>\n",
       "      <td>2.2</td>\n",
       "      <td>60.5</td>\n",
       "      <td>1.2</td>\n",
       "      <td>2.8</td>\n",
       "      <td>4.0</td>\n",
       "      <td>0.6</td>\n",
       "      <td>0.4</td>\n",
       "      <td>0.7</td>\n",
       "      <td>0.1</td>\n",
       "      <td>2.2</td>\n",
       "    </tr>\n",
       "    <tr>\n",
       "      <th>5</th>\n",
       "      <td>최부경</td>\n",
       "      <td>서울 SK</td>\n",
       "      <td>7.2</td>\n",
       "      <td>3.0</td>\n",
       "      <td>5.4</td>\n",
       "      <td>55.6</td>\n",
       "      <td>1.2</td>\n",
       "      <td>1.7</td>\n",
       "      <td>73.5</td>\n",
       "      <td>2.5</td>\n",
       "      <td>3.4</td>\n",
       "      <td>73.3</td>\n",
       "      <td>2.0</td>\n",
       "      <td>3.0</td>\n",
       "      <td>5.0</td>\n",
       "      <td>1.0</td>\n",
       "      <td>0.6</td>\n",
       "      <td>0.9</td>\n",
       "      <td>0.3</td>\n",
       "      <td>2.2</td>\n",
       "    </tr>\n",
       "    <tr>\n",
       "      <th>...</th>\n",
       "      <td>...</td>\n",
       "      <td>...</td>\n",
       "      <td>...</td>\n",
       "      <td>...</td>\n",
       "      <td>...</td>\n",
       "      <td>...</td>\n",
       "      <td>...</td>\n",
       "      <td>...</td>\n",
       "      <td>...</td>\n",
       "      <td>...</td>\n",
       "      <td>...</td>\n",
       "      <td>...</td>\n",
       "      <td>...</td>\n",
       "      <td>...</td>\n",
       "      <td>...</td>\n",
       "      <td>...</td>\n",
       "      <td>...</td>\n",
       "      <td>...</td>\n",
       "      <td>...</td>\n",
       "      <td>...</td>\n",
       "    </tr>\n",
       "    <tr>\n",
       "      <th>16</th>\n",
       "      <td>박진철</td>\n",
       "      <td>고양 캐롯</td>\n",
       "      <td>1.8</td>\n",
       "      <td>0.8</td>\n",
       "      <td>1.2</td>\n",
       "      <td>62.9</td>\n",
       "      <td>0.2</td>\n",
       "      <td>0.4</td>\n",
       "      <td>58.3</td>\n",
       "      <td>0.7</td>\n",
       "      <td>1.0</td>\n",
       "      <td>69.0</td>\n",
       "      <td>0.8</td>\n",
       "      <td>1.3</td>\n",
       "      <td>2.0</td>\n",
       "      <td>0.3</td>\n",
       "      <td>0.4</td>\n",
       "      <td>0.2</td>\n",
       "      <td>0.1</td>\n",
       "      <td>1.8</td>\n",
       "    </tr>\n",
       "    <tr>\n",
       "      <th>17</th>\n",
       "      <td>조재우</td>\n",
       "      <td>고양 캐롯</td>\n",
       "      <td>1.7</td>\n",
       "      <td>0.7</td>\n",
       "      <td>1.3</td>\n",
       "      <td>50.0</td>\n",
       "      <td>0.3</td>\n",
       "      <td>0.7</td>\n",
       "      <td>50.0</td>\n",
       "      <td>0.0</td>\n",
       "      <td>0.7</td>\n",
       "      <td>0.0</td>\n",
       "      <td>0.3</td>\n",
       "      <td>0.7</td>\n",
       "      <td>1.0</td>\n",
       "      <td>0.0</td>\n",
       "      <td>0.3</td>\n",
       "      <td>0.0</td>\n",
       "      <td>0.3</td>\n",
       "      <td>1.0</td>\n",
       "    </tr>\n",
       "    <tr>\n",
       "      <th>18</th>\n",
       "      <td>임종일</td>\n",
       "      <td>고양 캐롯</td>\n",
       "      <td>0.7</td>\n",
       "      <td>0.3</td>\n",
       "      <td>1.1</td>\n",
       "      <td>27.3</td>\n",
       "      <td>0.1</td>\n",
       "      <td>0.1</td>\n",
       "      <td>100.0</td>\n",
       "      <td>0.3</td>\n",
       "      <td>0.6</td>\n",
       "      <td>50.0</td>\n",
       "      <td>0.4</td>\n",
       "      <td>0.7</td>\n",
       "      <td>1.1</td>\n",
       "      <td>0.4</td>\n",
       "      <td>0.1</td>\n",
       "      <td>0.0</td>\n",
       "      <td>0.0</td>\n",
       "      <td>0.5</td>\n",
       "    </tr>\n",
       "    <tr>\n",
       "      <th>19</th>\n",
       "      <td>이정제</td>\n",
       "      <td>고양 캐롯</td>\n",
       "      <td>0.7</td>\n",
       "      <td>0.3</td>\n",
       "      <td>0.7</td>\n",
       "      <td>50.0</td>\n",
       "      <td>0.0</td>\n",
       "      <td>0.0</td>\n",
       "      <td>0.0</td>\n",
       "      <td>0.3</td>\n",
       "      <td>0.3</td>\n",
       "      <td>100.0</td>\n",
       "      <td>0.0</td>\n",
       "      <td>0.3</td>\n",
       "      <td>0.3</td>\n",
       "      <td>0.0</td>\n",
       "      <td>0.0</td>\n",
       "      <td>0.3</td>\n",
       "      <td>0.0</td>\n",
       "      <td>0.7</td>\n",
       "    </tr>\n",
       "    <tr>\n",
       "      <th>20</th>\n",
       "      <td>정해원</td>\n",
       "      <td>고양 캐롯</td>\n",
       "      <td>0.3</td>\n",
       "      <td>0.1</td>\n",
       "      <td>0.9</td>\n",
       "      <td>12.5</td>\n",
       "      <td>0.1</td>\n",
       "      <td>0.2</td>\n",
       "      <td>50.0</td>\n",
       "      <td>0.0</td>\n",
       "      <td>0.0</td>\n",
       "      <td>0.0</td>\n",
       "      <td>0.1</td>\n",
       "      <td>0.2</td>\n",
       "      <td>0.3</td>\n",
       "      <td>NaN</td>\n",
       "      <td>NaN</td>\n",
       "      <td>NaN</td>\n",
       "      <td>NaN</td>\n",
       "      <td>NaN</td>\n",
       "    </tr>\n",
       "  </tbody>\n",
       "</table>\n",
       "<p>101 rows × 20 columns</p>\n",
       "</div>"
      ],
      "text/plain": [
       "      선수명      팀   PTS    FG   FGA   FG%   FT  FTA    FT%   PP   PPA    PP%  \\\n",
       "1   자밀 워니  서울 SK  24.2  10.4  20.2  51.5  3.0  4.6   66.4  9.4  16.6   56.5   \n",
       "2     김선형  서울 SK  16.3   6.1  12.6  48.3  2.9  3.9   73.9  4.4   7.8   56.8   \n",
       "3     최준용  서울 SK  12.7   4.5  11.2  40.5  2.2  3.8   58.2  2.5   4.4   57.0   \n",
       "4     허일영  서울 SK   9.4   3.2   7.0  46.2  1.7  2.1   81.0  1.3   2.2   60.5   \n",
       "5     최부경  서울 SK   7.2   3.0   5.4  55.6  1.2  1.7   73.5  2.5   3.4   73.3   \n",
       "..    ...    ...   ...   ...   ...   ...  ...  ...    ...  ...   ...    ...   \n",
       "16    박진철  고양 캐롯   1.8   0.8   1.2  62.9  0.2  0.4   58.3  0.7   1.0   69.0   \n",
       "17    조재우  고양 캐롯   1.7   0.7   1.3  50.0  0.3  0.7   50.0  0.0   0.7    0.0   \n",
       "18    임종일  고양 캐롯   0.7   0.3   1.1  27.3  0.1  0.1  100.0  0.3   0.6   50.0   \n",
       "19    이정제  고양 캐롯   0.7   0.3   0.7  50.0  0.0  0.0    0.0  0.3   0.3  100.0   \n",
       "20    정해원  고양 캐롯   0.3   0.1   0.9  12.5  0.1  0.2   50.0  0.0   0.0    0.0   \n",
       "\n",
       "    OFF  DEF   TOT  AST   TO  STL   BS   PF  \n",
       "1   3.1  8.1  11.2  3.1  1.8  1.3  0.9  1.6  \n",
       "2   0.5  2.1   2.7  6.8  2.3  1.4  0.4  1.8  \n",
       "3   1.0  4.9   5.9  3.8  1.8  0.8  0.7  2.7  \n",
       "4   1.2  2.8   4.0  0.6  0.4  0.7  0.1  2.2  \n",
       "5   2.0  3.0   5.0  1.0  0.6  0.9  0.3  2.2  \n",
       "..  ...  ...   ...  ...  ...  ...  ...  ...  \n",
       "16  0.8  1.3   2.0  0.3  0.4  0.2  0.1  1.8  \n",
       "17  0.3  0.7   1.0  0.0  0.3  0.0  0.3  1.0  \n",
       "18  0.4  0.7   1.1  0.4  0.1  0.0  0.0  0.5  \n",
       "19  0.0  0.3   0.3  0.0  0.0  0.3  0.0  0.7  \n",
       "20  0.1  0.2   0.3  NaN  NaN  NaN  NaN  NaN  \n",
       "\n",
       "[101 rows x 20 columns]"
      ]
     },
     "execution_count": 10,
     "metadata": {},
     "output_type": "execute_result"
    }
   ],
   "source": [
    "# 데이터프레임 연결\n",
    "df = pd.concat([df1, df2, df3, df4, df5], axis = 0)\n",
    "df.drop([0], inplace=True)\n",
    "df.drop(['순위'],axis = 1 , inplace=True)\n",
    "df.reset_index()\n",
    "df"
   ]
  },
  {
   "cell_type": "code",
   "execution_count": 11,
   "id": "2628157b",
   "metadata": {
    "scrolled": false
   },
   "outputs": [
    {
     "name": "stdout",
     "output_type": "stream",
     "text": [
      "<class 'pandas.core.frame.DataFrame'>\n",
      "Int64Index: 101 entries, 1 to 20\n",
      "Data columns (total 20 columns):\n",
      " #   Column  Non-Null Count  Dtype  \n",
      "---  ------  --------------  -----  \n",
      " 0   선수명     101 non-null    object \n",
      " 1   팀       101 non-null    object \n",
      " 2   PTS     101 non-null    float64\n",
      " 3   FG      101 non-null    float64\n",
      " 4   FGA     101 non-null    float64\n",
      " 5   FG%     101 non-null    float64\n",
      " 6   FT      101 non-null    float64\n",
      " 7   FTA     101 non-null    float64\n",
      " 8   FT%     101 non-null    float64\n",
      " 9   PP      101 non-null    float64\n",
      " 10  PPA     101 non-null    float64\n",
      " 11  PP%     101 non-null    float64\n",
      " 12  OFF     101 non-null    float64\n",
      " 13  DEF     101 non-null    float64\n",
      " 14  TOT     100 non-null    float64\n",
      " 15  AST     97 non-null     float64\n",
      " 16  TO      96 non-null     float64\n",
      " 17  STL     96 non-null     float64\n",
      " 18  BS      96 non-null     float64\n",
      " 19  PF      96 non-null     float64\n",
      "dtypes: float64(18), object(2)\n",
      "memory usage: 16.6+ KB\n"
     ]
    }
   ],
   "source": [
    "# 기본 정보 확인\n",
    "df.info()"
   ]
  },
  {
   "cell_type": "markdown",
   "id": "cdd92e32",
   "metadata": {},
   "source": [
    "### 각 열의 고유값 확인"
   ]
  },
  {
   "cell_type": "code",
   "execution_count": 18,
   "id": "03e7d48d",
   "metadata": {},
   "outputs": [
    {
     "data": {
      "text/plain": [
       "array([3.1, 6.8, 3.8, 0.6, 1. , 1.9, 1.5, 0.4, 0.1, 0.5, 1.1, 0.3, 0.8,\n",
       "       0. , 4.1, 1.6, 2.5, 2.1, 2. , 3.7, 1.2, 1.4, 2.6, 2.8, 0.7, 1.7,\n",
       "       0.2, 3.9, 0.9, 2.7, 3.2, 3.3, 4.2])"
      ]
     },
     "execution_count": 18,
     "metadata": {},
     "output_type": "execute_result"
    }
   ],
   "source": [
    "df.AST.unique()"
   ]
  },
  {
   "cell_type": "code",
   "execution_count": 14,
   "id": "39ec54dd",
   "metadata": {},
   "outputs": [
    {
     "data": {
      "text/plain": [
       "array([1.8, 2.3, 0.4, 0.6, 0.7, 0.2, 0.3, 0.5, 0. , 2.5, 1.1, 2. , 1.7,\n",
       "       1.4, 0.9, 1. , 0.8, 1.5, 0.1, 2.6, 1.6, 2.2, 1.2, 2.1, 1.3])"
      ]
     },
     "execution_count": 14,
     "metadata": {},
     "output_type": "execute_result"
    }
   ],
   "source": [
    "df.TO.unique()"
   ]
  },
  {
   "cell_type": "code",
   "execution_count": 15,
   "id": "06c3633b",
   "metadata": {},
   "outputs": [
    {
     "data": {
      "text/plain": [
       "array([1.3, 1.4, 0.8, 0.7, 0.9, 0.4, 0.3, 0.2, 0.6, 0. , 1.2, 0.5, 1.1,\n",
       "       1. , 0.1, 1.7])"
      ]
     },
     "execution_count": 15,
     "metadata": {},
     "output_type": "execute_result"
    }
   ],
   "source": [
    "df.STL.unique()"
   ]
  },
  {
   "cell_type": "code",
   "execution_count": 16,
   "id": "38918318",
   "metadata": {},
   "outputs": [
    {
     "data": {
      "text/plain": [
       "array([0.9, 0.4, 0.7, 0.1, 0.3, 0. , 0.2, 0.8, 0.6, 0.5, 1.1])"
      ]
     },
     "execution_count": 16,
     "metadata": {},
     "output_type": "execute_result"
    }
   ],
   "source": [
    "df.BS.unique()"
   ]
  },
  {
   "cell_type": "code",
   "execution_count": 17,
   "id": "8616b4f5",
   "metadata": {
    "scrolled": true
   },
   "outputs": [
    {
     "data": {
      "text/plain": [
       "array([1.6, 1.8, 2.7, 2.2, 2.6, 2.5, 1.4, 1. , 1.7, 1.3, 1.9, 0.5, 0.9,\n",
       "       0.8, 0. , 2.1, 2. , 2.4, 3. , 1.2, 2.3, 0.7, 2.9, 1.5, 3.3])"
      ]
     },
     "execution_count": 17,
     "metadata": {},
     "output_type": "execute_result"
    }
   ],
   "source": [
    "df.PF.unique()"
   ]
  },
  {
   "cell_type": "markdown",
   "id": "657f32d7",
   "metadata": {},
   "source": [
    "### NaN 값 처리"
   ]
  },
  {
   "cell_type": "code",
   "execution_count": 19,
   "id": "e8725e2f",
   "metadata": {},
   "outputs": [
    {
     "data": {
      "text/plain": [
       "선수명    0\n",
       "팀      0\n",
       "PTS    0\n",
       "FG     0\n",
       "FGA    0\n",
       "FG%    0\n",
       "FT     0\n",
       "FTA    0\n",
       "FT%    0\n",
       "PP     0\n",
       "PPA    0\n",
       "PP%    0\n",
       "OFF    0\n",
       "DEF    0\n",
       "TOT    0\n",
       "AST    0\n",
       "TO     0\n",
       "STL    0\n",
       "BS     0\n",
       "PF     0\n",
       "dtype: int64"
      ]
     },
     "execution_count": 19,
     "metadata": {},
     "output_type": "execute_result"
    }
   ],
   "source": [
    "# NaN값을 0으로 처리\n",
    "df.replace(np.NaN, 0, inplace=True)\n",
    "df.isna().sum()"
   ]
  }
 ],
 "metadata": {
  "kernelspec": {
   "display_name": "Python 3 (ipykernel)",
   "language": "python",
   "name": "python3"
  },
  "language_info": {
   "codemirror_mode": {
    "name": "ipython",
    "version": 3
   },
   "file_extension": ".py",
   "mimetype": "text/x-python",
   "name": "python",
   "nbconvert_exporter": "python",
   "pygments_lexer": "ipython3",
   "version": "3.9.17"
  }
 },
 "nbformat": 4,
 "nbformat_minor": 5
}
